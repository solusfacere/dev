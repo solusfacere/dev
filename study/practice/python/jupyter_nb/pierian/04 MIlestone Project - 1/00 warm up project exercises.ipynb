{
 "cells": [
  {
   "cell_type": "code",
   "execution_count": 3,
   "metadata": {},
   "outputs": [],
   "source": [
    "def user_choice():\n",
    "\n",
    "    #this original choice value can be anything that isn't an integer\n",
    "    choice = 'wrong'\n",
    "\n",
    "    #While the choice is not a digit, keep asking for input.\n",
    "    while choice.isdigit()  == False:\n",
    "\n",
    "        #We shouldn't convert here, otherwise we get an error on a wrong input.\n",
    "        choice = input('Choose a number: ')\n",
    "    \n",
    "    # We can convert once the while loop above has confirmed we have a digit.\n",
    "    return int(choice)\n"
   ]
  },
  {
   "cell_type": "code",
   "execution_count": null,
   "metadata": {},
   "outputs": [],
   "source": [
    "user_choice()"
   ]
  },
  {
   "cell_type": "code",
   "execution_count": 2,
   "metadata": {},
   "outputs": [],
   "source": [
    "def user_choice():\n",
    "\n",
    "    #This original choice value can be anything that isn't an integer.\n",
    "    choice = 'wrong'\n",
    "\n",
    "    #While the choice is not a digit, keep asking for input.\n",
    "    while choice.isdigit() == False:\n",
    "\n",
    "        # we shouldn't convert here, otherwise we get an error on a wrong input\n",
    "        choice = input(\"choose a number:\")\n",
    "\n",
    "        #Error Messege Check\n",
    "        if choice.isdigit() == False:\n",
    "            print('Sorry, but you did not enter an integer. Please try again.')\n",
    "    \n",
    "    # We can convert once the while loop above has confirmed we have a digit.\n",
    "    return int(choice)"
   ]
  },
  {
   "cell_type": "code",
   "execution_count": null,
   "metadata": {},
   "outputs": [],
   "source": [
    "user_choice()"
   ]
  },
  {
   "cell_type": "code",
   "execution_count": null,
   "metadata": {},
   "outputs": [],
   "source": [
    "def user_choice():"
   ]
  },
  {
   "cell_type": "code",
   "execution_count": 14,
   "metadata": {},
   "outputs": [],
   "source": [
    "from IPython.display import clear_output\n",
    "clear_output() "
   ]
  },
  {
   "cell_type": "code",
   "execution_count": 5,
   "metadata": {},
   "outputs": [],
   "source": [
    "def user_choice():\n",
    "    \n",
    "    #This original choice can be anything that isn't an integer\n",
    "    choice = 'wrong'\n",
    "\n",
    "    # While the choice is not a digit, keep asking for input.\n",
    "    while choice.isdigit() == False:\n",
    "\n",
    "        # we shouldn't convert herer, otherwise we got an error on a wrong input\n",
    "        choice = input('Choose a number: ')\n",
    "    \n",
    "        if choice.isdigit() == False:\n",
    "                # THIS CLEARS THE CURRENT OUTPUT BELOW THE CELL\n",
    "                clear_output()\n",
    "\n",
    "                print('sorry but you didnt enter an integer. Please try again.')\n",
    "    return int(choice)"
   ]
  },
  {
   "cell_type": "code",
   "execution_count": null,
   "metadata": {},
   "outputs": [],
   "source": [
    "user_choice()"
   ]
  },
  {
   "cell_type": "markdown",
   "metadata": {},
   "source": [
    "**Checking Against Multiple Possible Values**"
   ]
  },
  {
   "cell_type": "code",
   "execution_count": 7,
   "metadata": {},
   "outputs": [],
   "source": [
    "result = 'wrong value'\n",
    "acceptable_values = ['0','1','2']"
   ]
  },
  {
   "cell_type": "markdown",
   "metadata": {},
   "source": [
    "## More Flexible Exmaple"
   ]
  },
  {
   "cell_type": "code",
   "execution_count": 2,
   "metadata": {},
   "outputs": [],
   "source": [
    "def user_choice():\n",
    "\n",
    "    choice = 'WRONG'\n",
    "    within_range = False\n",
    "\n",
    "    while choice.isdigit() == False or within_range == False:\n",
    "\n",
    "        choice = input('Please enter a number (0-10): ')\n",
    "\n",
    "        if choice.isdigit() == False:\n",
    "            print('Sorry that is not a digit!')\n",
    "\n",
    "        if choice.isdigit() == True:\n",
    "            if int(choice) in range(0,10):\n",
    "                within_range = True\n",
    "            else:\n",
    "                within_range = False\n",
    "\n",
    "    return int(choice)"
   ]
  },
  {
   "cell_type": "code",
   "execution_count": 4,
   "metadata": {},
   "outputs": [
    {
     "name": "stdout",
     "output_type": "stream",
     "text": [
      "Sorry that is not a digit!\n"
     ]
    },
    {
     "data": {
      "text/plain": [
       "9"
      ]
     },
     "execution_count": 4,
     "metadata": {},
     "output_type": "execute_result"
    }
   ],
   "source": [
    "user_choice()"
   ]
  },
  {
   "cell_type": "markdown",
   "metadata": {},
   "source": [
    "### Simple User Interaction\n",
    "\n",
    "**Finally let's combine all of these ideas to create a small game where a user can choose a \"position\" in an existing list and replace it with a avalue of their choice.**"
   ]
  },
  {
   "cell_type": "code",
   "execution_count": 5,
   "metadata": {},
   "outputs": [],
   "source": [
    "game_list = [0,1,2]"
   ]
  },
  {
   "cell_type": "code",
   "execution_count": 6,
   "metadata": {},
   "outputs": [],
   "source": [
    "def display_game(game_list):\n",
    "    print('Here is the current list')\n",
    "    print(game_list)"
   ]
  },
  {
   "cell_type": "code",
   "execution_count": 7,
   "metadata": {},
   "outputs": [
    {
     "name": "stdout",
     "output_type": "stream",
     "text": [
      "Here is the current list\n",
      "[0, 1, 2]\n"
     ]
    }
   ],
   "source": [
    "display_game(game_list)"
   ]
  },
  {
   "cell_type": "code",
   "execution_count": 18,
   "metadata": {},
   "outputs": [],
   "source": [
    "def position_choice():\n",
    "\n",
    "    # This original choice value can be anything that isn't an integer\n",
    "    choice ='wrong'\n",
    "    \n",
    "    # While the choice is not a digit, keep asking for input.\n",
    "    while choice not in ['0','1','2']:\n",
    "\n",
    "        # we shouldn't convert here, otherwise we get an error on a wrong input\n",
    "        choice = input('pick a position to replace (0,1,2): ')\n",
    "\n",
    "        if choice not in ['0','1','2']:\n",
    "            # THIS CLEARS THE CURRENT OUTPUT BELOW THE CELL\n",
    "            clear_output()\n",
    "\n",
    "            print(\"Sorry but you did not choose a valid position (0,1,2)\")\n",
    "    \n",
    "    # Optionally you can clear everything after running the function\n",
    "    # clear_output()\n",
    "\n",
    "    # We can convert once the while loop above has confirmed we have a digit.\n",
    "    return int(choice)\n"
   ]
  },
  {
   "cell_type": "code",
   "execution_count": 19,
   "metadata": {},
   "outputs": [],
   "source": [
    "def replacement_choice(game_list, position):\n",
    "    \n",
    "    user_placement = input(\"Type a string to place at the position\")\n",
    "\n",
    "    game_list[position] = user_placement\n",
    "\n",
    "    return game_list"
   ]
  },
  {
   "cell_type": "code",
   "execution_count": 20,
   "metadata": {},
   "outputs": [],
   "source": [
    "def gameon_choice():\n",
    "\n",
    "    # This original choice value can be anything that isn't a Y or N\n",
    "    choice = 'wrong'\"00 warm up project exercises.ipynb\"\n",
    "\n",
    "    # While the choice is not a digit, keep asking for input.\n",
    "    while choice not in ['Y', 'N']:\n",
    "\n",
    "        # we shouldn't convert here, otherwise we get an error on a wrong input\n",
    "        choice = input('Would you like to keep playing? Y or N')\n",
    "\n",
    "        if choice not in ['Y', 'N']:\n",
    "            # THIS CLEARS THE CURRENT OUTPUT BELOW THE CELL\n",
    "            clear_output()\n",
    "\n",
    "            print(\"Sorry, I didn't understand. Please make sure to choose Y or N.\")\n",
    "        \n",
    "\n",
    "        # Optinally you can clear everything after running the function\n",
    "        # clear_output()\n",
    "\n",
    "        if choice == \"Y\":\n",
    "            # Game is still on \n",
    "            return True\n",
    "        else:\n",
    "            # Game is over\n",
    "            return False"
   ]
  },
  {
   "cell_type": "markdown",
   "metadata": {},
   "source": [
    "**Game Logic All Together**"
   ]
  },
  {
   "cell_type": "code",
   "execution_count": 25,
   "metadata": {},
   "outputs": [
    {
     "name": "stdout",
     "output_type": "stream",
     "text": [
      "Here is the current list\n",
      "[0, 1, '1']\n"
     ]
    }
   ],
   "source": [
    "# Variable to keep game playing\n",
    "game_on = True\n",
    "\n",
    "# First Game List\n",
    "game_list = [0,1,2]\n",
    "\n",
    "while game_on:\n",
    "\n",
    "    # Clear any historical output and show the game list\n",
    "    clear_output()\n",
    "    display_game(game_list)\n",
    "\n",
    "    # Have player choose position\n",
    "    position = position_choice()\n",
    "\n",
    "    # Rewrite that position and update game_list\n",
    "    game_list = replacement_choice(game_list, position)\n",
    "\n",
    "    # Clear Screen and show the updated game list\n",
    "    clear_output()\n",
    "    display_game(game_list)\n",
    "\n",
    "    # Ask if you want to keep playing\n",
    "    game_on = gameon_choice()"
   ]
  },
  {
   "cell_type": "code",
   "execution_count": null,
   "metadata": {},
   "outputs": [],
   "source": []
  }
 ],
 "metadata": {
  "kernelspec": {
   "display_name": "base",
   "language": "python",
   "name": "python3"
  },
  "language_info": {
   "codemirror_mode": {
    "name": "ipython",
    "version": 3
   },
   "file_extension": ".py",
   "mimetype": "text/x-python",
   "name": "python",
   "nbconvert_exporter": "python",
   "pygments_lexer": "ipython3",
   "version": "3.11.4"
  }
 },
 "nbformat": 4,
 "nbformat_minor": 2
}
