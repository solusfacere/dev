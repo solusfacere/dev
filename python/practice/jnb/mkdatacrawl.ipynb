{
 "cells": [
  {
   "cell_type": "code",
   "execution_count": 3,
   "metadata": {},
   "outputs": [
    {
     "name": "stdout",
     "output_type": "stream",
     "text": [
      "Note: you may need to restart the kernel to use updated packages.\n"
     ]
    }
   ],
   "source": [
    "%pip install yfinance pandas matplotlib -q"
   ]
  },
  {
   "cell_type": "code",
   "execution_count": 4,
   "metadata": {},
   "outputs": [],
   "source": [
    "import yfinance as yf\n",
    "import pandas as pd"
   ]
  },
  {
   "cell_type": "code",
   "execution_count": 5,
   "metadata": {},
   "outputs": [],
   "source": [
    "# 주식 정보 심볼 리스트\n",
    "tickers = ['AAPL', 'TSLA', 'GOOGL']"
   ]
  },
  {
   "cell_type": "code",
   "execution_count": 6,
   "metadata": {},
   "outputs": [
    {
     "name": "stderr",
     "output_type": "stream",
     "text": [
      "[*********************100%***********************]  3 of 3 completed"
     ]
    },
    {
     "name": "stdout",
     "output_type": "stream",
     "text": [
      "Ticker                           AAPL       GOOGL        TSLA\n",
      "Date                                                         \n",
      "2024-09-17 00:00:00+00:00  216.789993  159.320007  227.869995\n",
      "2024-09-18 00:00:00+00:00  220.690002  159.809998  227.199997\n",
      "2024-09-19 00:00:00+00:00  228.869995  162.139999  243.919998\n",
      "2024-09-20 00:00:00+00:00  228.199997  163.589996  238.250000\n",
      "2024-09-23 00:00:00+00:00  226.470001  161.850006  250.000000\n",
      "2024-09-24 00:00:00+00:00  227.369995  162.289993  254.270004\n",
      "2024-09-25 00:00:00+00:00  226.369995  161.490005  257.019989\n",
      "2024-09-26 00:00:00+00:00  227.520004  162.729996  254.220001\n",
      "2024-09-27 00:00:00+00:00  227.789993  163.949997  260.459991\n",
      "2024-09-30 00:00:00+00:00  233.000000  165.850006  261.630005\n",
      "2024-10-01 00:00:00+00:00  226.210007  166.990005  258.019989\n",
      "2024-10-02 00:00:00+00:00  226.779999  165.860001  249.020004\n",
      "2024-10-03 00:00:00+00:00  225.669998  165.860001  240.660004\n",
      "2024-10-04 00:00:00+00:00  226.800003  167.059998  250.080002\n",
      "2024-10-07 00:00:00+00:00  221.690002  162.979996  240.830002\n",
      "2024-10-08 00:00:00+00:00  225.770004  164.380005  244.500000\n",
      "2024-10-09 00:00:00+00:00  229.539993  161.860001  241.050003\n",
      "2024-10-10 00:00:00+00:00  229.039993  162.080002  238.770004\n",
      "2024-10-11 00:00:00+00:00  227.550003  163.240005  217.800003\n",
      "2024-10-14 00:00:00+00:00  231.300003  164.960007  219.160004\n",
      "2024-10-15 00:00:00+00:00  233.850006  165.460007  219.570007\n",
      "2024-10-16 00:00:00+00:00  231.779999  165.160004  221.330002\n",
      "2024-10-17 00:00:00+00:00  232.242004  164.701797  219.740005\n"
     ]
    },
    {
     "name": "stderr",
     "output_type": "stream",
     "text": [
      "\n"
     ]
    }
   ],
   "source": [
    "# fetch data on each stock\n",
    "data = yf.download(tickers, period='1mo', interval='1d')\n",
    "print(data['Close'])"
   ]
  },
  {
   "cell_type": "code",
   "execution_count": 18,
   "metadata": {},
   "outputs": [
    {
     "name": "stdout",
     "output_type": "stream",
     "text": [
      "현재 주가: Ticker\n",
      "AAPL     232.242004\n",
      "GOOGL    164.701797\n",
      "TSLA     219.740005\n",
      "Name: 2024-10-17 00:00:00+00:00, dtype: float64\n"
     ]
    }
   ],
   "source": [
    "# 각 주식의 매수가와 주식수\n",
    "portfolio = {\n",
    "    'AAPL' : {'shares': 10, 'buy_price': 150},\n",
    "    'TSLA' : {'shares': 5, 'buy_price': 300},\n",
    "    'GOOGL' : {'shares': 3, 'buy_price': 2550},\n",
    "}\n",
    "\n",
    "# 현재 가격 가져오기\n",
    "current_prices = data['Close'].iloc[-1] # 최신 종가 사용\n",
    "\n",
    "print(\"현재 주가:\", current_prices)"
   ]
  },
  {
   "cell_type": "code",
   "execution_count": 19,
   "metadata": {},
   "outputs": [
    {
     "name": "stdout",
     "output_type": "stream",
     "text": [
      "AAPL 수익률:  54.83%\n",
      "TSLA 수익률: -26.75%\n",
      "GOOGL 수익률: -93.54%\n",
      "포트폴리오 전체 수익률: -63.24%\n"
     ]
    }
   ],
   "source": [
    "# 포트폴리오 수익률 계산\n",
    "total_investment = 0\n",
    "total_value = 0\n",
    "\n",
    "for ticker in portfolio:\n",
    "    shares = portfolio[ticker]['shares']\n",
    "    buy_price = portfolio[ticker]['buy_price']\n",
    "    current_price = current_prices[ticker]\n",
    "\n",
    "    investment = shares * buy_price\n",
    "    value = shares * current_price\n",
    "\n",
    "    total_investment += investment\n",
    "    total_value += value\n",
    "\n",
    "    profit = value - investment\n",
    "\n",
    "    profit_percent = (profit / investment) * 100\n",
    "    print(f\"{ticker} 수익률: {profit_percent: .2f}%\")\n",
    "\n",
    "portfolio_return = (total_value - total_investment) / total_investment * 100\n",
    "print(f\"포트폴리오 전체 수익률: {portfolio_return: .2f}%\")"
   ]
  },
  {
   "cell_type": "code",
   "execution_count": 20,
   "metadata": {},
   "outputs": [],
   "source": [
    "import matplotlib.pyplot as plt"
   ]
  },
  {
   "cell_type": "code",
   "execution_count": 58,
   "metadata": {},
   "outputs": [
    {
     "name": "stderr",
     "output_type": "stream",
     "text": [
      "C:\\Users\\Admin\\AppData\\Roaming\\Python\\Python312\\site-packages\\IPython\\core\\pylabtools.py:170: UserWarning: Glyph 49688 (\\N{HANGUL SYLLABLE SU}) missing from font(s) DejaVu Sans.\n",
      "  fig.canvas.print_figure(bytes_io, **kw)\n",
      "C:\\Users\\Admin\\AppData\\Roaming\\Python\\Python312\\site-packages\\IPython\\core\\pylabtools.py:170: UserWarning: Glyph 51061 (\\N{HANGUL SYLLABLE IG}) missing from font(s) DejaVu Sans.\n",
      "  fig.canvas.print_figure(bytes_io, **kw)\n",
      "C:\\Users\\Admin\\AppData\\Roaming\\Python\\Python312\\site-packages\\IPython\\core\\pylabtools.py:170: UserWarning: Glyph 47456 (\\N{HANGUL SYLLABLE RYUL}) missing from font(s) DejaVu Sans.\n",
      "  fig.canvas.print_figure(bytes_io, **kw)\n",
      "C:\\Users\\Admin\\AppData\\Roaming\\Python\\Python312\\site-packages\\IPython\\core\\pylabtools.py:170: UserWarning: Glyph 54252 (\\N{HANGUL SYLLABLE PO}) missing from font(s) DejaVu Sans.\n",
      "  fig.canvas.print_figure(bytes_io, **kw)\n",
      "C:\\Users\\Admin\\AppData\\Roaming\\Python\\Python312\\site-packages\\IPython\\core\\pylabtools.py:170: UserWarning: Glyph 53944 (\\N{HANGUL SYLLABLE TEU}) missing from font(s) DejaVu Sans.\n",
      "  fig.canvas.print_figure(bytes_io, **kw)\n",
      "C:\\Users\\Admin\\AppData\\Roaming\\Python\\Python312\\site-packages\\IPython\\core\\pylabtools.py:170: UserWarning: Glyph 54260 (\\N{HANGUL SYLLABLE POL}) missing from font(s) DejaVu Sans.\n",
      "  fig.canvas.print_figure(bytes_io, **kw)\n",
      "C:\\Users\\Admin\\AppData\\Roaming\\Python\\Python312\\site-packages\\IPython\\core\\pylabtools.py:170: UserWarning: Glyph 47532 (\\N{HANGUL SYLLABLE RI}) missing from font(s) DejaVu Sans.\n",
      "  fig.canvas.print_figure(bytes_io, **kw)\n",
      "C:\\Users\\Admin\\AppData\\Roaming\\Python\\Python312\\site-packages\\IPython\\core\\pylabtools.py:170: UserWarning: Glyph 50724 (\\N{HANGUL SYLLABLE O}) missing from font(s) DejaVu Sans.\n",
      "  fig.canvas.print_figure(bytes_io, **kw)\n",
      "C:\\Users\\Admin\\AppData\\Roaming\\Python\\Python312\\site-packages\\IPython\\core\\pylabtools.py:170: UserWarning: Glyph 51452 (\\N{HANGUL SYLLABLE JU}) missing from font(s) DejaVu Sans.\n",
      "  fig.canvas.print_figure(bytes_io, **kw)\n",
      "C:\\Users\\Admin\\AppData\\Roaming\\Python\\Python312\\site-packages\\IPython\\core\\pylabtools.py:170: UserWarning: Glyph 49885 (\\N{HANGUL SYLLABLE SIG}) missing from font(s) DejaVu Sans.\n",
      "  fig.canvas.print_figure(bytes_io, **kw)\n",
      "C:\\Users\\Admin\\AppData\\Roaming\\Python\\Python312\\site-packages\\IPython\\core\\pylabtools.py:170: UserWarning: Glyph 48324 (\\N{HANGUL SYLLABLE BYEOL}) missing from font(s) DejaVu Sans.\n",
      "  fig.canvas.print_figure(bytes_io, **kw)\n"
     ]
    },
    {
     "data": {
      "image/png": "[encoded data removed]",
      "text/plain": [
       "<Figure size 640x480 with 1 Axes>"
      ]
     },
     "metadata": {},
     "output_type": "display_data"
    }
   ],
   "source": [
    "# 각 주식의 수익률을 그래프로 표시\n",
    "profits = []\n",
    "labels = []\n",
    "\n",
    "for ticker in portfolio:\n",
    "    shares = portfolio[ticker]['shares']\n",
    "    buy_price = portfolio[ticker]['buy_price']\n",
    "    current_price = current_prices[ticker]\n",
    "\n",
    "    investment = shares * buy_price\n",
    "    value = shares * current_price\n",
    "\n",
    "    profit = (value - investment) / investment * 100\n",
    "    profits.append(profit)\n",
    "    labels.append(ticker)\n",
    "\n",
    "# 그래프 그리기\n",
    "plt.bar(labels, profits, color='green')\n",
    "plt.title('포트폴리오 주식별 수익률')\n",
    "plt.xlabel('주식')\n",
    "plt.ylabel('수익률 (%)')\n",
    "plt.show()"
   ]
  },
  {
   "cell_type": "code",
   "execution_count": null,
   "metadata": {},
   "outputs": [],
   "source": []
  }
 ],
 "metadata": {
  "kernelspec": {
   "display_name": "Python 3",
   "language": "python",
   "name": "python3"
  },
  "language_info": {
   "codemirror_mode": {
    "name": "ipython",
    "version": 3
   },
   "file_extension": ".py",
   "mimetype": "text/x-python",
   "name": "python",
   "nbconvert_exporter": "python",
   "pygments_lexer": "ipython3",
   "version": "3.12.6"
  }
 },
 "nbformat": 4,
 "nbformat_minor": 2
}
